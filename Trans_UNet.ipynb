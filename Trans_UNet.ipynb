{
 "cells": [
  {
   "cell_type": "code",
   "execution_count": 1,
   "id": "11bcf997",
   "metadata": {},
   "outputs": [],
   "source": [
    "import torch\n",
    "import torchvision.transforms as transforms\n",
    "\n",
    "from trans_unet import TransUNet\n",
    "from train import train_model"
   ]
  },
  {
   "cell_type": "code",
   "execution_count": 2,
   "id": "3a2c5a66",
   "metadata": {},
   "outputs": [],
   "source": [
    "coco_path = \"D:/University/Test_Project/coco_dataset/images/train2017/\""
   ]
  },
  {
   "cell_type": "code",
   "execution_count": 3,
   "id": "9833ab07",
   "metadata": {},
   "outputs": [],
   "source": [
    "img_root = \"D:/University/Test_Project/coco_dataset/images/train2017/\"\n",
    "ann_file = 'D:/University/Test_Project/coco_dataset/annotations/annotations/panoptic_train2017_with_mask_small.json'\n",
    "mask_root = 'D:/University/Test_Project/coco_dataset/masks/panoptic_train2017'"
   ]
  },
  {
   "cell_type": "code",
   "execution_count": 4,
   "id": "627f75a0",
   "metadata": {},
   "outputs": [],
   "source": [
    "mean = [0.485, 0.456, 0.406] \n",
    "std = [0.229, 0.224, 0.225]\n",
    "transform=transform = transforms.Compose([\n",
    "    transforms.Resize((256, 256)),  # تغییر اندازه\n",
    "    transforms.ToTensor(),  # تبدیل به تنسور PyTorch\n",
    "    transforms.Normalize(mean=mean, std=std)  # نرمال‌سازی با میانگین و انحراف معیار\n",
    "])"
   ]
  },
  {
   "cell_type": "code",
   "execution_count": 5,
   "id": "844efd85",
   "metadata": {},
   "outputs": [],
   "source": [
    "device = torch.device(\"cuda\" if torch.cuda.is_available() else \"cpu\")\n",
    "model = TransUNet(num_classes=80, patch_size = 4).to(device)"
   ]
  },
  {
   "cell_type": "code",
   "execution_count": 6,
   "id": "9c74bef4",
   "metadata": {},
   "outputs": [
    {
     "name": "stdout",
     "output_type": "stream",
     "text": [
      "Using device: cuda\n",
      "Epoch [1/30] | Loss: 2.5801 | Acc: 0.0000 | mIoU: 0.9500\n",
      "✅ Best model saved.\n",
      "Epoch [2/30] | Loss: 2.2318 | Acc: 0.0000 | mIoU: 0.9750\n",
      "✅ Best model saved.\n",
      "Epoch [3/30] | Loss: 2.2344 | Acc: 0.0000 | mIoU: 0.9750\n",
      "Epoch [4/30] | Loss: 2.2260 | Acc: 0.0000 | mIoU: 0.9750\n",
      "Epoch [5/30] | Loss: 2.2237 | Acc: 0.0000 | mIoU: 0.9750\n",
      "Epoch [6/30] | Loss: 2.2241 | Acc: 0.0000 | mIoU: 0.9750\n",
      "Epoch [7/30] | Loss: 2.2170 | Acc: 0.0000 | mIoU: 0.9750\n",
      "Epoch [8/30] | Loss: 2.2182 | Acc: 0.0000 | mIoU: 0.9750\n",
      "Epoch [9/30] | Loss: 2.2202 | Acc: 0.0000 | mIoU: 0.9750\n",
      "Epoch [10/30] | Loss: 2.2187 | Acc: 0.0000 | mIoU: 0.9750\n",
      "Epoch [11/30] | Loss: 2.2161 | Acc: 0.0000 | mIoU: 0.9750\n",
      "Epoch [12/30] | Loss: 2.2153 | Acc: 0.0000 | mIoU: 0.9750\n",
      "Epoch [13/30] | Loss: 2.2148 | Acc: 0.0000 | mIoU: 0.9750\n",
      "Epoch [14/30] | Loss: 2.2143 | Acc: 0.0000 | mIoU: 0.9750\n",
      "Epoch [15/30] | Loss: 2.2141 | Acc: 0.0000 | mIoU: 0.9750\n",
      "Epoch [16/30] | Loss: 2.2142 | Acc: 0.0000 | mIoU: 0.9750\n",
      "Epoch [17/30] | Loss: 2.2144 | Acc: 0.0000 | mIoU: 0.9750\n",
      "Epoch [18/30] | Loss: 2.2144 | Acc: 0.0000 | mIoU: 0.9750\n",
      "Epoch [19/30] | Loss: 2.2141 | Acc: 0.0000 | mIoU: 0.9750\n",
      "Epoch [20/30] | Loss: 2.2135 | Acc: 0.0000 | mIoU: 0.9750\n",
      "Epoch [21/30] | Loss: 2.2129 | Acc: 0.0000 | mIoU: 0.9750\n",
      "Epoch [22/30] | Loss: 2.2127 | Acc: 0.0000 | mIoU: 0.9750\n",
      "Epoch [23/30] | Loss: 2.2125 | Acc: 0.0000 | mIoU: 0.9750\n",
      "Epoch [24/30] | Loss: 2.2124 | Acc: 0.0000 | mIoU: 0.9750\n",
      "Epoch [25/30] | Loss: 2.2123 | Acc: 0.0000 | mIoU: 0.9750\n",
      "Epoch [26/30] | Loss: 2.2122 | Acc: 0.0000 | mIoU: 0.9750\n",
      "Epoch [27/30] | Loss: 2.2121 | Acc: 0.0000 | mIoU: 0.9750\n",
      "Epoch [28/30] | Loss: 2.2120 | Acc: 0.0000 | mIoU: 0.9750\n",
      "Epoch [29/30] | Loss: 2.2119 | Acc: 0.0000 | mIoU: 0.9750\n",
      "Epoch [30/30] | Loss: 2.2119 | Acc: 0.0000 | mIoU: 0.9750\n"
     ]
    }
   ],
   "source": [
    "train_model(\n",
    "    model,\n",
    "    image_dir=img_root,\n",
    "    mask_dir=mask_root,\n",
    "    ann_file=ann_file,\n",
    "    transform = transform,\n",
    "    num_classes=80,\n",
    "    epochs=30,\n",
    "    batch_size=4,\n",
    "    lr=1e-4,\n",
    "    train_size = 0.7,\n",
    "    test_size = 0.3\n",
    ")"
   ]
  },
  {
   "cell_type": "code",
   "execution_count": null,
   "id": "35b287bf",
   "metadata": {},
   "outputs": [],
   "source": []
  }
 ],
 "metadata": {
  "kernelspec": {
   "display_name": "Python 3 (ipykernel)",
   "language": "python",
   "name": "python3"
  },
  "language_info": {
   "codemirror_mode": {
    "name": "ipython",
    "version": 3
   },
   "file_extension": ".py",
   "mimetype": "text/x-python",
   "name": "python",
   "nbconvert_exporter": "python",
   "pygments_lexer": "ipython3",
   "version": "3.9.16"
  }
 },
 "nbformat": 4,
 "nbformat_minor": 5
}
